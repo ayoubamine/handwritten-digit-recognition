{
 "cells": [
  {
   "cell_type": "markdown",
   "metadata": {},
   "source": [
    "# Handwritten Digit Recognition\n",
    "\n",
    "Handwritten Digit Recognition using Convolutional Neural Networks in Python with Keras"
   ]
  },
  {
   "cell_type": "code",
   "execution_count": null,
   "metadata": {},
   "outputs": [],
   "source": [
    "import numpy as np\n",
    "from keras.models import load_model\n",
    "from matplotlib import pyplot as plt\n",
    "import cv2"
   ]
  },
  {
   "cell_type": "code",
   "execution_count": null,
   "metadata": {},
   "outputs": [],
   "source": [
    "DEBUG = True"
   ]
  },
  {
   "cell_type": "code",
   "execution_count": null,
   "metadata": {},
   "outputs": [],
   "source": [
    "model = load_model('final_model.h5')"
   ]
  },
  {
   "cell_type": "code",
   "execution_count": null,
   "metadata": {},
   "outputs": [],
   "source": [
    "image_path=\"imgs/test1.jpg\"\n",
    "\n",
    "# Read the input image \n",
    "img = cv2.imread(image_path)\n",
    "\n",
    "if DEBUG:\n",
    "    plt.imshow(img)\n",
    "    plt.title('Original')\n",
    "    plt.show()\n",
    "\n",
    "# Convert to grayscale\n",
    "img_gray = cv2.cvtColor(img, cv2.COLOR_BGR2GRAY)\n",
    "\n",
    "if DEBUG:\n",
    "    plt.imshow(img_gray, cmap='gray')\n",
    "    plt.title('Grayscale')\n",
    "    plt.show()\n",
    "\n",
    "# Apply Gaussian filtering\n",
    "img_gau = cv2.GaussianBlur(img_gray, (5, 5), 0)\n",
    "\n",
    "if DEBUG:\n",
    "    plt.imshow(img_gau, cmap='gray')\n",
    "    plt.title('GaussianBlur')\n",
    "    plt.show()\n",
    "\n",
    "# Threshold the image\n",
    "ret, img_th = cv2.threshold(img_gau, 80, 255, cv2.THRESH_BINARY_INV)\n",
    "\n",
    "if DEBUG:\n",
    "    plt.imshow(img_th, cmap='gray')\n",
    "    plt.title('Binary Image')\n",
    "    plt.show()\n",
    "\n",
    "# Find contours in the image\n",
    "im2, contours, hierarchy = cv2.findContours(img_th.copy(), cv2.RETR_EXTERNAL, cv2.CHAIN_APPROX_SIMPLE)\n",
    "\n",
    "if DEBUG:\n",
    "    print('Contours:', len(contours))"
   ]
  },
  {
   "cell_type": "code",
   "execution_count": null,
   "metadata": {},
   "outputs": [],
   "source": [
    "def get_square(image, square_size):\n",
    "    height, width = image.shape\n",
    "    \n",
    "    if height > width:\n",
    "        differ = height\n",
    "    else:\n",
    "        differ = width\n",
    "        \n",
    "    differ += differ // 2\n",
    "\n",
    "    mask = np.zeros((differ, differ), dtype='uint8')  \n",
    "    \n",
    "    x_pos = int((differ - width) / 2)\n",
    "    y_pos = int((differ - height) / 2)\n",
    "    \n",
    "    mask[y_pos:y_pos+height,x_pos:x_pos+width] = image\n",
    "    mask = cv2.resize(mask, (square_size, square_size), interpolation=cv2.INTER_AREA)\n",
    "\n",
    "    return mask"
   ]
  },
  {
   "cell_type": "code",
   "execution_count": null,
   "metadata": {},
   "outputs": [],
   "source": [
    "def put_text_with_bg(img, text, x, y, bg=(0, 255, 0)):\n",
    "    font = cv2.FONT_HERSHEY_SIMPLEX\n",
    "    font_scale = 0.8\n",
    "    thickness = 2\n",
    "\n",
    "    # Get the width and height of the text box\n",
    "    text_width, text_height = cv2.getTextSize(text, font, font_scale, thickness)[0]\n",
    "\n",
    "    # Make the coords of the box with a small padding of two pixels\n",
    "    box_coords = ((x, y), (x + text_width - 2, y - text_height - 2))\n",
    "    \n",
    "    cv2.rectangle(img, box_coords[0], box_coords[1], bg, cv2.FILLED)\n",
    "    cv2.putText(img, text, (x, y), font, font_scale, (255, 255, 255), thickness, cv2.LINE_AA)"
   ]
  },
  {
   "cell_type": "code",
   "execution_count": null,
   "metadata": {},
   "outputs": [],
   "source": [
    "for contour in contours:\n",
    "    x, y, w, h = cv2.boundingRect(contour)\n",
    "\n",
    "    if w > 50 or h > 50:\n",
    "        cv2.rectangle(img, (x, y), (x + w, y + h), (0, 255, 0), 2)\n",
    "        \n",
    "        # Region of interest\n",
    "        roi = img_th[y:y+h, x:x+w]\n",
    "        \n",
    "        # Make the rectangular region around the digit\n",
    "        roi = get_square(roi, 28)\n",
    "        \n",
    "        # Dilate the image\n",
    "        roi = cv2.dilate(roi, (3, 3))\n",
    "        \n",
    "        if DEBUG:\n",
    "            plt.imshow(roi, cmap='gray')\n",
    "            plt.show()\n",
    "        \n",
    "        # Convert to numpy array\n",
    "        roi = np.array([roi])\n",
    "        # Reshape to have a single channel\n",
    "        roi = roi.reshape(1, 28, 28, 1)\n",
    "        \n",
    "        # Convert from integers to floats\n",
    "        roi = roi.astype('float32')\n",
    "        # Normalize to range 0-1\n",
    "        roi = roi / 255.\n",
    "        \n",
    "        # Predict the class\n",
    "        digit = model.predict_classes(roi)\n",
    "        \n",
    "        put_text_with_bg(img, str(digit[0]), x - 1, y - 1)\n",
    "\n",
    "        if DEBUG:\n",
    "            print('Rect:', x, y, w, h)\n",
    "            print('Digit:', digit[0])"
   ]
  },
  {
   "cell_type": "code",
   "execution_count": null,
   "metadata": {},
   "outputs": [],
   "source": [
    "# Save final image\n",
    "cv2.imwrite('output1.jpg', img)"
   ]
  },
  {
   "cell_type": "code",
   "execution_count": null,
   "metadata": {},
   "outputs": [],
   "source": [
    "# Show final image\n",
    "plt.figure(figsize=(20, 20))\n",
    "plt.imshow(img)\n",
    "plt.title('Final Image')\n",
    "plt.show()"
   ]
  },
  {
   "cell_type": "code",
   "execution_count": null,
   "metadata": {},
   "outputs": [],
   "source": []
  }
 ],
 "metadata": {
  "kernelspec": {
   "display_name": "Python 3",
   "language": "python",
   "name": "python3"
  },
  "language_info": {
   "codemirror_mode": {
    "name": "ipython",
    "version": 3
   },
   "file_extension": ".py",
   "mimetype": "text/x-python",
   "name": "python",
   "nbconvert_exporter": "python",
   "pygments_lexer": "ipython3",
   "version": "3.6.8"
  }
 },
 "nbformat": 4,
 "nbformat_minor": 2
}
